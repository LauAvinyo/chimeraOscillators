{
 "cells": [
  {
   "cell_type": "code",
   "execution_count": 19,
   "metadata": {},
   "outputs": [],
   "source": [
    "import numpy as np\n",
    "import pandas as pd\n",
    "import matplotlib.pyplot as plt\n",
    "from scipy.stats import mode\n",
    "from seaborn import heatmap"
   ]
  },
  {
   "cell_type": "code",
   "execution_count": 57,
   "metadata": {},
   "outputs": [
    {
     "data": {
      "text/html": [
       "<div>\n",
       "<style scoped>\n",
       "    .dataframe tbody tr th:only-of-type {\n",
       "        vertical-align: middle;\n",
       "    }\n",
       "\n",
       "    .dataframe tbody tr th {\n",
       "        vertical-align: top;\n",
       "    }\n",
       "\n",
       "    .dataframe thead th {\n",
       "        text-align: right;\n",
       "    }\n",
       "</style>\n",
       "<table border=\"1\" class=\"dataframe\">\n",
       "  <thead>\n",
       "    <tr style=\"text-align: right;\">\n",
       "      <th></th>\n",
       "      <th>A</th>\n",
       "      <th>alpha</th>\n",
       "      <th>y</th>\n",
       "    </tr>\n",
       "  </thead>\n",
       "  <tbody>\n",
       "    <tr>\n",
       "      <th>0</th>\n",
       "      <td>0.0</td>\n",
       "      <td>1.570796</td>\n",
       "      <td>90.31496932891166;90.31499017632511;90.3150261...</td>\n",
       "    </tr>\n",
       "    <tr>\n",
       "      <th>1</th>\n",
       "      <td>0.0</td>\n",
       "      <td>1.560796</td>\n",
       "      <td>170.4377948251106;170.70553914074304;170.07274...</td>\n",
       "    </tr>\n",
       "    <tr>\n",
       "      <th>2</th>\n",
       "      <td>0.0</td>\n",
       "      <td>1.550796</td>\n",
       "      <td>478.768336667076;478.76833642835504;478.768336...</td>\n",
       "    </tr>\n",
       "    <tr>\n",
       "      <th>3</th>\n",
       "      <td>0.0</td>\n",
       "      <td>1.540796</td>\n",
       "      <td>491.1571159601119;491.1571159596061;491.157115...</td>\n",
       "    </tr>\n",
       "    <tr>\n",
       "      <th>4</th>\n",
       "      <td>0.0</td>\n",
       "      <td>1.530796</td>\n",
       "      <td>493.0379126569509;493.0379126569479;493.037912...</td>\n",
       "    </tr>\n",
       "  </tbody>\n",
       "</table>\n",
       "</div>"
      ],
      "text/plain": [
       "     A     alpha                                                  y\n",
       "0  0.0  1.570796  90.31496932891166;90.31499017632511;90.3150261...\n",
       "1  0.0  1.560796  170.4377948251106;170.70553914074304;170.07274...\n",
       "2  0.0  1.550796  478.768336667076;478.76833642835504;478.768336...\n",
       "3  0.0  1.540796  491.1571159601119;491.1571159596061;491.157115...\n",
       "4  0.0  1.530796  493.0379126569509;493.0379126569479;493.037912..."
      ]
     },
     "execution_count": 57,
     "metadata": {},
     "output_type": "execute_result"
    }
   ],
   "source": [
    "data = pd.read_csv('../heat_phases.txt', '\\t')\n",
    "data.head()"
   ]
  },
  {
   "cell_type": "code",
   "execution_count": 58,
   "metadata": {},
   "outputs": [],
   "source": [
    "def phases2count(s):\n",
    "    s = s.split(';')\n",
    "    s = np.array(s).astype(float)\n",
    "    s = s.round(1)\n",
    "    m = mode(s)[1][0]\n",
    "    return m"
   ]
  },
  {
   "cell_type": "code",
   "execution_count": 99,
   "metadata": {},
   "outputs": [],
   "source": [
    "data['count'] = data['y'].apply(phases2count)\n",
    "data['alpha'] = data['alpha'].values.round(2)\n",
    "data['A'] = data['A'].values.round(2)"
   ]
  },
  {
   "cell_type": "code",
   "execution_count": 100,
   "metadata": {},
   "outputs": [
    {
     "data": {
      "text/html": [
       "<div>\n",
       "<style scoped>\n",
       "    .dataframe tbody tr th:only-of-type {\n",
       "        vertical-align: middle;\n",
       "    }\n",
       "\n",
       "    .dataframe tbody tr th {\n",
       "        vertical-align: top;\n",
       "    }\n",
       "\n",
       "    .dataframe thead th {\n",
       "        text-align: right;\n",
       "    }\n",
       "</style>\n",
       "<table border=\"1\" class=\"dataframe\">\n",
       "  <thead>\n",
       "    <tr style=\"text-align: right;\">\n",
       "      <th></th>\n",
       "      <th>A</th>\n",
       "      <th>alpha</th>\n",
       "      <th>y</th>\n",
       "      <th>count</th>\n",
       "      <th>beta</th>\n",
       "    </tr>\n",
       "  </thead>\n",
       "  <tbody>\n",
       "    <tr>\n",
       "      <th>0</th>\n",
       "      <td>0.0</td>\n",
       "      <td>1.57</td>\n",
       "      <td>90.31496932891166;90.31499017632511;90.3150261...</td>\n",
       "      <td>107</td>\n",
       "      <td>0.000796</td>\n",
       "    </tr>\n",
       "    <tr>\n",
       "      <th>1</th>\n",
       "      <td>0.0</td>\n",
       "      <td>1.56</td>\n",
       "      <td>170.4377948251106;170.70553914074304;170.07274...</td>\n",
       "      <td>28</td>\n",
       "      <td>0.010796</td>\n",
       "    </tr>\n",
       "    <tr>\n",
       "      <th>2</th>\n",
       "      <td>0.0</td>\n",
       "      <td>1.55</td>\n",
       "      <td>478.768336667076;478.76833642835504;478.768336...</td>\n",
       "      <td>218</td>\n",
       "      <td>0.020796</td>\n",
       "    </tr>\n",
       "    <tr>\n",
       "      <th>3</th>\n",
       "      <td>0.0</td>\n",
       "      <td>1.54</td>\n",
       "      <td>491.1571159601119;491.1571159596061;491.157115...</td>\n",
       "      <td>207</td>\n",
       "      <td>0.030796</td>\n",
       "    </tr>\n",
       "    <tr>\n",
       "      <th>4</th>\n",
       "      <td>0.0</td>\n",
       "      <td>1.53</td>\n",
       "      <td>493.0379126569509;493.0379126569479;493.037912...</td>\n",
       "      <td>193</td>\n",
       "      <td>0.040796</td>\n",
       "    </tr>\n",
       "  </tbody>\n",
       "</table>\n",
       "</div>"
      ],
      "text/plain": [
       "     A  alpha                                                  y  count  \\\n",
       "0  0.0   1.57  90.31496932891166;90.31499017632511;90.3150261...    107   \n",
       "1  0.0   1.56  170.4377948251106;170.70553914074304;170.07274...     28   \n",
       "2  0.0   1.55  478.768336667076;478.76833642835504;478.768336...    218   \n",
       "3  0.0   1.54  491.1571159601119;491.1571159596061;491.157115...    207   \n",
       "4  0.0   1.53  493.0379126569509;493.0379126569479;493.037912...    193   \n",
       "\n",
       "       beta  \n",
       "0  0.000796  \n",
       "1  0.010796  \n",
       "2  0.020796  \n",
       "3  0.030796  \n",
       "4  0.040796  "
      ]
     },
     "execution_count": 100,
     "metadata": {},
     "output_type": "execute_result"
    }
   ],
   "source": [
    "data.head()"
   ]
  },
  {
   "cell_type": "code",
   "execution_count": 102,
   "metadata": {},
   "outputs": [],
   "source": [
    "A = np.sort(np.array(tuple(set(data['A']))))\n",
    "alpha = np.sort(np.array(tuple(set(data['alpha']))))"
   ]
  },
  {
   "cell_type": "code",
   "execution_count": 90,
   "metadata": {},
   "outputs": [],
   "source": [
    "F = np.zeros((A.shape[0], alpha.shape[0]))\n",
    "for i, a in enumerate(A):\n",
    "    for u, al in enumerate(alpha):\n",
    "        ind = np.logical_and(data['A'] == a, data['alpha'] == al)\n",
    "        F[i][u] = data[ind]['count'] / 256"
   ]
  },
  {
   "cell_type": "code",
   "execution_count": 92,
   "metadata": {},
   "outputs": [
    {
     "data": {
      "image/png": "[encoded data removed]",
      "text/plain": [
       "<Figure size 576x432 with 2 Axes>"
      ]
     },
     "metadata": {
      "needs_background": "light"
     },
     "output_type": "display_data"
    }
   ],
   "source": [
    "plt.figure(figsize=(8, 6))\n",
    "heatmap(F)\n",
    "yticks, _ = plt.yticks()\n",
    "plt.yticks(yticks, labels=A, rotation=0)\n",
    "plt.ylabel('A', fontsize=20)\n",
    "\n",
    "xticks, _ = plt.xticks()\n",
    "plt.xticks(xticks, labels=alpha)\n",
    "plt.xlabel('alpha', fontsize=20)\n",
    "\n",
    "plt.show()"
   ]
  },
  {
   "cell_type": "code",
   "execution_count": null,
   "metadata": {},
   "outputs": [],
   "source": []
  }
 ],
 "metadata": {
  "kernelspec": {
   "display_name": "Python 3",
   "language": "python",
   "name": "python3"
  },
  "language_info": {
   "codemirror_mode": {
    "name": "ipython",
    "version": 3
   },
   "file_extension": ".py",
   "mimetype": "text/x-python",
   "name": "python",
   "nbconvert_exporter": "python",
   "pygments_lexer": "ipython3",
   "version": "3.5.2"
  }
 },
 "nbformat": 4,
 "nbformat_minor": 2
}
